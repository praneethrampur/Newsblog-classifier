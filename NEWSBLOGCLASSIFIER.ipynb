{
 "cells": [
  {
   "cell_type": "code",
   "execution_count": 141,
   "metadata": {},
   "outputs": [],
   "source": [
    "import pandas as pd\n",
    "corpus=pd.read_csv(\"C:\\\\Users\\\\Vijay Muthyalu\\\\Music\\\\covid-19\\\\corpus.csv\",encoding='cp437')\n",
    "corpus.insert(1,'output',1)"
   ]
  },
  {
   "cell_type": "code",
   "execution_count": 142,
   "metadata": {},
   "outputs": [],
   "source": [
    "corpus.drop(columns=['Unnamed: 0','last_crawl_date','url','title'],inplace=True)"
   ]
  },
  {
   "cell_type": "code",
   "execution_count": 143,
   "metadata": {},
   "outputs": [
    {
     "data": {
      "text/html": [
       "<div>\n",
       "<style scoped>\n",
       "    .dataframe tbody tr th:only-of-type {\n",
       "        vertical-align: middle;\n",
       "    }\n",
       "\n",
       "    .dataframe tbody tr th {\n",
       "        vertical-align: top;\n",
       "    }\n",
       "\n",
       "    .dataframe thead th {\n",
       "        text-align: right;\n",
       "    }\n",
       "</style>\n",
       "<table border=\"1\" class=\"dataframe\">\n",
       "  <thead>\n",
       "    <tr style=\"text-align: right;\">\n",
       "      <th></th>\n",
       "      <th>output</th>\n",
       "      <th>body</th>\n",
       "    </tr>\n",
       "  </thead>\n",
       "  <tbody>\n",
       "    <tr>\n",
       "      <td>0</td>\n",
       "      <td>1</td>\n",
       "      <td>NEW DELHI: The Aam Aadmi Party's (AAP's) stanc...</td>\n",
       "    </tr>\n",
       "    <tr>\n",
       "      <td>1</td>\n",
       "      <td>1</td>\n",
       "      <td>JapanÆs ties with India do not target any coun...</td>\n",
       "    </tr>\n",
       "    <tr>\n",
       "      <td>2</td>\n",
       "      <td>1</td>\n",
       "      <td>SAGITTARIUS NOV 23-DEC 22. ItÆs almost time to...</td>\n",
       "    </tr>\n",
       "    <tr>\n",
       "      <td>3</td>\n",
       "      <td>1</td>\n",
       "      <td>Bad corporate news sends stocks lower. Bad new...</td>\n",
       "    </tr>\n",
       "    <tr>\n",
       "      <td>4</td>\n",
       "      <td>1</td>\n",
       "      <td>Related. 2008 Batla House encounter convict Sh...</td>\n",
       "    </tr>\n",
       "    <tr>\n",
       "      <td>...</td>\n",
       "      <td>...</td>\n",
       "      <td>...</td>\n",
       "    </tr>\n",
       "    <tr>\n",
       "      <td>159995</td>\n",
       "      <td>1</td>\n",
       "      <td>Related. TILL last year,despite his associatio...</td>\n",
       "    </tr>\n",
       "    <tr>\n",
       "      <td>159996</td>\n",
       "      <td>1</td>\n",
       "      <td>Related. Star pacer Dale Steyn feels he is for...</td>\n",
       "    </tr>\n",
       "    <tr>\n",
       "      <td>159997</td>\n",
       "      <td>1</td>\n",
       "      <td>The South African team,especially their formid...</td>\n",
       "    </tr>\n",
       "    <tr>\n",
       "      <td>159998</td>\n",
       "      <td>1</td>\n",
       "      <td>Monk offers to help &lt;U+0091&gt;sexually exploited...</td>\n",
       "    </tr>\n",
       "    <tr>\n",
       "      <td>159999</td>\n",
       "      <td>1</td>\n",
       "      <td>Related. While the entire Himachal Pradesh is ...</td>\n",
       "    </tr>\n",
       "  </tbody>\n",
       "</table>\n",
       "<p>160000 rows × 2 columns</p>\n",
       "</div>"
      ],
      "text/plain": [
       "        output                                               body\n",
       "0            1  NEW DELHI: The Aam Aadmi Party's (AAP's) stanc...\n",
       "1            1  JapanÆs ties with India do not target any coun...\n",
       "2            1  SAGITTARIUS NOV 23-DEC 22. ItÆs almost time to...\n",
       "3            1  Bad corporate news sends stocks lower. Bad new...\n",
       "4            1  Related. 2008 Batla House encounter convict Sh...\n",
       "...        ...                                                ...\n",
       "159995       1  Related. TILL last year,despite his associatio...\n",
       "159996       1  Related. Star pacer Dale Steyn feels he is for...\n",
       "159997       1  The South African team,especially their formid...\n",
       "159998       1  Monk offers to help <U+0091>sexually exploited...\n",
       "159999       1  Related. While the entire Himachal Pradesh is ...\n",
       "\n",
       "[160000 rows x 2 columns]"
      ]
     },
     "execution_count": 143,
     "metadata": {},
     "output_type": "execute_result"
    }
   ],
   "source": [
    "corpus"
   ]
  },
  {
   "cell_type": "code",
   "execution_count": 144,
   "metadata": {},
   "outputs": [],
   "source": [
    "corpus.rename(columns={'body':'text'},inplace=True)"
   ]
  },
  {
   "cell_type": "code",
   "execution_count": 145,
   "metadata": {},
   "outputs": [],
   "source": [
    "corpus_new=corpus.loc[0:336]"
   ]
  },
  {
   "cell_type": "code",
   "execution_count": 146,
   "metadata": {},
   "outputs": [
    {
     "data": {
      "text/html": [
       "<div>\n",
       "<style scoped>\n",
       "    .dataframe tbody tr th:only-of-type {\n",
       "        vertical-align: middle;\n",
       "    }\n",
       "\n",
       "    .dataframe tbody tr th {\n",
       "        vertical-align: top;\n",
       "    }\n",
       "\n",
       "    .dataframe thead th {\n",
       "        text-align: right;\n",
       "    }\n",
       "</style>\n",
       "<table border=\"1\" class=\"dataframe\">\n",
       "  <thead>\n",
       "    <tr style=\"text-align: right;\">\n",
       "      <th></th>\n",
       "      <th>output</th>\n",
       "      <th>text</th>\n",
       "    </tr>\n",
       "  </thead>\n",
       "  <tbody>\n",
       "    <tr>\n",
       "      <td>0</td>\n",
       "      <td>1</td>\n",
       "      <td>NEW DELHI: The Aam Aadmi Party's (AAP's) stanc...</td>\n",
       "    </tr>\n",
       "    <tr>\n",
       "      <td>1</td>\n",
       "      <td>1</td>\n",
       "      <td>JapanÆs ties with India do not target any coun...</td>\n",
       "    </tr>\n",
       "    <tr>\n",
       "      <td>2</td>\n",
       "      <td>1</td>\n",
       "      <td>SAGITTARIUS NOV 23-DEC 22. ItÆs almost time to...</td>\n",
       "    </tr>\n",
       "    <tr>\n",
       "      <td>3</td>\n",
       "      <td>1</td>\n",
       "      <td>Bad corporate news sends stocks lower. Bad new...</td>\n",
       "    </tr>\n",
       "    <tr>\n",
       "      <td>4</td>\n",
       "      <td>1</td>\n",
       "      <td>Related. 2008 Batla House encounter convict Sh...</td>\n",
       "    </tr>\n",
       "    <tr>\n",
       "      <td>...</td>\n",
       "      <td>...</td>\n",
       "      <td>...</td>\n",
       "    </tr>\n",
       "    <tr>\n",
       "      <td>332</td>\n",
       "      <td>1</td>\n",
       "      <td>People topped all consumer magazines in ad pag...</td>\n",
       "    </tr>\n",
       "    <tr>\n",
       "      <td>333</td>\n",
       "      <td>1</td>\n",
       "      <td>Apple CEO Tim Cook speaks about the number of ...</td>\n",
       "    </tr>\n",
       "    <tr>\n",
       "      <td>334</td>\n",
       "      <td>1</td>\n",
       "      <td>Nick Romito is the CEO of View the Space, an o...</td>\n",
       "    </tr>\n",
       "    <tr>\n",
       "      <td>335</td>\n",
       "      <td>1</td>\n",
       "      <td>The Magnificent Mr. Toad has nothing on real e...</td>\n",
       "    </tr>\n",
       "    <tr>\n",
       "      <td>336</td>\n",
       "      <td>1</td>\n",
       "      <td>MORE ON: AppleÆs deal with China Mobile to sel...</td>\n",
       "    </tr>\n",
       "  </tbody>\n",
       "</table>\n",
       "<p>337 rows × 2 columns</p>\n",
       "</div>"
      ],
      "text/plain": [
       "     output                                               text\n",
       "0         1  NEW DELHI: The Aam Aadmi Party's (AAP's) stanc...\n",
       "1         1  JapanÆs ties with India do not target any coun...\n",
       "2         1  SAGITTARIUS NOV 23-DEC 22. ItÆs almost time to...\n",
       "3         1  Bad corporate news sends stocks lower. Bad new...\n",
       "4         1  Related. 2008 Batla House encounter convict Sh...\n",
       "..      ...                                                ...\n",
       "332       1  People topped all consumer magazines in ad pag...\n",
       "333       1  Apple CEO Tim Cook speaks about the number of ...\n",
       "334       1  Nick Romito is the CEO of View the Space, an o...\n",
       "335       1  The Magnificent Mr. Toad has nothing on real e...\n",
       "336       1  MORE ON: AppleÆs deal with China Mobile to sel...\n",
       "\n",
       "[337 rows x 2 columns]"
      ]
     },
     "execution_count": 146,
     "metadata": {},
     "output_type": "execute_result"
    }
   ],
   "source": [
    "corpus_new"
   ]
  },
  {
   "cell_type": "code",
   "execution_count": 147,
   "metadata": {},
   "outputs": [],
   "source": [
    "article=pd.read_csv(\"C:\\\\Users\\\\Vijay Muthyalu\\\\Music\\\\covid-19\\\\articles.csv\")\n",
    "article.insert(1,'output',0)"
   ]
  },
  {
   "cell_type": "code",
   "execution_count": 148,
   "metadata": {},
   "outputs": [],
   "source": [
    "article.drop(columns=['author','claps','reading_time','link','title'],inplace=True)"
   ]
  },
  {
   "cell_type": "code",
   "execution_count": 149,
   "metadata": {},
   "outputs": [
    {
     "data": {
      "text/html": [
       "<div>\n",
       "<style scoped>\n",
       "    .dataframe tbody tr th:only-of-type {\n",
       "        vertical-align: middle;\n",
       "    }\n",
       "\n",
       "    .dataframe tbody tr th {\n",
       "        vertical-align: top;\n",
       "    }\n",
       "\n",
       "    .dataframe thead th {\n",
       "        text-align: right;\n",
       "    }\n",
       "</style>\n",
       "<table border=\"1\" class=\"dataframe\">\n",
       "  <thead>\n",
       "    <tr style=\"text-align: right;\">\n",
       "      <th></th>\n",
       "      <th>output</th>\n",
       "      <th>text</th>\n",
       "    </tr>\n",
       "  </thead>\n",
       "  <tbody>\n",
       "    <tr>\n",
       "      <td>0</td>\n",
       "      <td>0</td>\n",
       "      <td>Oh, how the headlines blared:\\nChatbots were T...</td>\n",
       "    </tr>\n",
       "    <tr>\n",
       "      <td>1</td>\n",
       "      <td>0</td>\n",
       "      <td>If you’ve ever found yourself looking up the s...</td>\n",
       "    </tr>\n",
       "    <tr>\n",
       "      <td>2</td>\n",
       "      <td>0</td>\n",
       "      <td>Machine learning is increasingly moving from h...</td>\n",
       "    </tr>\n",
       "    <tr>\n",
       "      <td>3</td>\n",
       "      <td>0</td>\n",
       "      <td>If your understanding of A.I. and Machine Lear...</td>\n",
       "    </tr>\n",
       "    <tr>\n",
       "      <td>4</td>\n",
       "      <td>0</td>\n",
       "      <td>Want to learn about applied Artificial Intelli...</td>\n",
       "    </tr>\n",
       "    <tr>\n",
       "      <td>...</td>\n",
       "      <td>...</td>\n",
       "      <td>...</td>\n",
       "    </tr>\n",
       "    <tr>\n",
       "      <td>332</td>\n",
       "      <td>0</td>\n",
       "      <td>Click here to share this article on LinkedIn »...</td>\n",
       "    </tr>\n",
       "    <tr>\n",
       "      <td>333</td>\n",
       "      <td>0</td>\n",
       "      <td>These are my opinions on where deep neural net...</td>\n",
       "    </tr>\n",
       "    <tr>\n",
       "      <td>334</td>\n",
       "      <td>0</td>\n",
       "      <td>Everyone who has been remotely tuned in to rec...</td>\n",
       "    </tr>\n",
       "    <tr>\n",
       "      <td>335</td>\n",
       "      <td>0</td>\n",
       "      <td>One of the biggest misconceptions around is th...</td>\n",
       "    </tr>\n",
       "    <tr>\n",
       "      <td>336</td>\n",
       "      <td>0</td>\n",
       "      <td>I believe, we all have that psychologist/philo...</td>\n",
       "    </tr>\n",
       "  </tbody>\n",
       "</table>\n",
       "<p>337 rows × 2 columns</p>\n",
       "</div>"
      ],
      "text/plain": [
       "     output                                               text\n",
       "0         0  Oh, how the headlines blared:\\nChatbots were T...\n",
       "1         0  If you’ve ever found yourself looking up the s...\n",
       "2         0  Machine learning is increasingly moving from h...\n",
       "3         0  If your understanding of A.I. and Machine Lear...\n",
       "4         0  Want to learn about applied Artificial Intelli...\n",
       "..      ...                                                ...\n",
       "332       0  Click here to share this article on LinkedIn »...\n",
       "333       0  These are my opinions on where deep neural net...\n",
       "334       0  Everyone who has been remotely tuned in to rec...\n",
       "335       0  One of the biggest misconceptions around is th...\n",
       "336       0  I believe, we all have that psychologist/philo...\n",
       "\n",
       "[337 rows x 2 columns]"
      ]
     },
     "execution_count": 149,
     "metadata": {},
     "output_type": "execute_result"
    }
   ],
   "source": [
    "article"
   ]
  },
  {
   "cell_type": "code",
   "execution_count": 150,
   "metadata": {},
   "outputs": [],
   "source": [
    "cor_art=pd.concat([corpus_new,article])"
   ]
  },
  {
   "cell_type": "code",
   "execution_count": 151,
   "metadata": {},
   "outputs": [
    {
     "data": {
      "text/html": [
       "<div>\n",
       "<style scoped>\n",
       "    .dataframe tbody tr th:only-of-type {\n",
       "        vertical-align: middle;\n",
       "    }\n",
       "\n",
       "    .dataframe tbody tr th {\n",
       "        vertical-align: top;\n",
       "    }\n",
       "\n",
       "    .dataframe thead th {\n",
       "        text-align: right;\n",
       "    }\n",
       "</style>\n",
       "<table border=\"1\" class=\"dataframe\">\n",
       "  <thead>\n",
       "    <tr style=\"text-align: right;\">\n",
       "      <th></th>\n",
       "      <th>output</th>\n",
       "      <th>text</th>\n",
       "    </tr>\n",
       "  </thead>\n",
       "  <tbody>\n",
       "    <tr>\n",
       "      <td>0</td>\n",
       "      <td>1</td>\n",
       "      <td>NEW DELHI: The Aam Aadmi Party's (AAP's) stanc...</td>\n",
       "    </tr>\n",
       "    <tr>\n",
       "      <td>1</td>\n",
       "      <td>1</td>\n",
       "      <td>JapanÆs ties with India do not target any coun...</td>\n",
       "    </tr>\n",
       "    <tr>\n",
       "      <td>2</td>\n",
       "      <td>1</td>\n",
       "      <td>SAGITTARIUS NOV 23-DEC 22. ItÆs almost time to...</td>\n",
       "    </tr>\n",
       "    <tr>\n",
       "      <td>3</td>\n",
       "      <td>1</td>\n",
       "      <td>Bad corporate news sends stocks lower. Bad new...</td>\n",
       "    </tr>\n",
       "    <tr>\n",
       "      <td>4</td>\n",
       "      <td>1</td>\n",
       "      <td>Related. 2008 Batla House encounter convict Sh...</td>\n",
       "    </tr>\n",
       "    <tr>\n",
       "      <td>...</td>\n",
       "      <td>...</td>\n",
       "      <td>...</td>\n",
       "    </tr>\n",
       "    <tr>\n",
       "      <td>332</td>\n",
       "      <td>0</td>\n",
       "      <td>Click here to share this article on LinkedIn »...</td>\n",
       "    </tr>\n",
       "    <tr>\n",
       "      <td>333</td>\n",
       "      <td>0</td>\n",
       "      <td>These are my opinions on where deep neural net...</td>\n",
       "    </tr>\n",
       "    <tr>\n",
       "      <td>334</td>\n",
       "      <td>0</td>\n",
       "      <td>Everyone who has been remotely tuned in to rec...</td>\n",
       "    </tr>\n",
       "    <tr>\n",
       "      <td>335</td>\n",
       "      <td>0</td>\n",
       "      <td>One of the biggest misconceptions around is th...</td>\n",
       "    </tr>\n",
       "    <tr>\n",
       "      <td>336</td>\n",
       "      <td>0</td>\n",
       "      <td>I believe, we all have that psychologist/philo...</td>\n",
       "    </tr>\n",
       "  </tbody>\n",
       "</table>\n",
       "<p>674 rows × 2 columns</p>\n",
       "</div>"
      ],
      "text/plain": [
       "     output                                               text\n",
       "0         1  NEW DELHI: The Aam Aadmi Party's (AAP's) stanc...\n",
       "1         1  JapanÆs ties with India do not target any coun...\n",
       "2         1  SAGITTARIUS NOV 23-DEC 22. ItÆs almost time to...\n",
       "3         1  Bad corporate news sends stocks lower. Bad new...\n",
       "4         1  Related. 2008 Batla House encounter convict Sh...\n",
       "..      ...                                                ...\n",
       "332       0  Click here to share this article on LinkedIn »...\n",
       "333       0  These are my opinions on where deep neural net...\n",
       "334       0  Everyone who has been remotely tuned in to rec...\n",
       "335       0  One of the biggest misconceptions around is th...\n",
       "336       0  I believe, we all have that psychologist/philo...\n",
       "\n",
       "[674 rows x 2 columns]"
      ]
     },
     "execution_count": 151,
     "metadata": {},
     "output_type": "execute_result"
    }
   ],
   "source": [
    "cor_art"
   ]
  },
  {
   "cell_type": "code",
   "execution_count": 152,
   "metadata": {},
   "outputs": [],
   "source": [
    "from sklearn.utils import shuffle\n",
    "cor_art=shuffle(cor_art)"
   ]
  },
  {
   "cell_type": "code",
   "execution_count": 153,
   "metadata": {},
   "outputs": [],
   "source": [
    "y=cor_art['output']\n",
    "cor_art.drop(columns='output',inplace=True)"
   ]
  },
  {
   "cell_type": "code",
   "execution_count": 154,
   "metadata": {},
   "outputs": [
    {
     "data": {
      "text/html": [
       "<div>\n",
       "<style scoped>\n",
       "    .dataframe tbody tr th:only-of-type {\n",
       "        vertical-align: middle;\n",
       "    }\n",
       "\n",
       "    .dataframe tbody tr th {\n",
       "        vertical-align: top;\n",
       "    }\n",
       "\n",
       "    .dataframe thead th {\n",
       "        text-align: right;\n",
       "    }\n",
       "</style>\n",
       "<table border=\"1\" class=\"dataframe\">\n",
       "  <thead>\n",
       "    <tr style=\"text-align: right;\">\n",
       "      <th></th>\n",
       "      <th>text</th>\n",
       "    </tr>\n",
       "  </thead>\n",
       "  <tbody>\n",
       "    <tr>\n",
       "      <td>273</td>\n",
       "      <td>With media attention focused on Chris Christie...</td>\n",
       "    </tr>\n",
       "    <tr>\n",
       "      <td>228</td>\n",
       "      <td>by Blaise Agüera y Arcas, Alexander Todorov a...</td>\n",
       "    </tr>\n",
       "    <tr>\n",
       "      <td>256</td>\n",
       "      <td>Make sure to check out the other articles here...</td>\n",
       "    </tr>\n",
       "    <tr>\n",
       "      <td>239</td>\n",
       "      <td>ThatÆs been a top Team de Blasio goal since th...</td>\n",
       "    </tr>\n",
       "    <tr>\n",
       "      <td>270</td>\n",
       "      <td>But here are the underprivileged pupils of Far...</td>\n",
       "    </tr>\n",
       "    <tr>\n",
       "      <td>...</td>\n",
       "      <td>...</td>\n",
       "    </tr>\n",
       "    <tr>\n",
       "      <td>127</td>\n",
       "      <td>Facebook has recently launched a limited beta ...</td>\n",
       "    </tr>\n",
       "    <tr>\n",
       "      <td>38</td>\n",
       "      <td>By Naseem Hakim &amp; Aaron Keys\\nAt Airbnb, we wa...</td>\n",
       "    </tr>\n",
       "    <tr>\n",
       "      <td>109</td>\n",
       "      <td>MORE FROM. Forbes Media surprised staffers Tue...</td>\n",
       "    </tr>\n",
       "    <tr>\n",
       "      <td>106</td>\n",
       "      <td>This post outlines a formalization of what Nic...</td>\n",
       "    </tr>\n",
       "    <tr>\n",
       "      <td>147</td>\n",
       "      <td>In 1965, I. J. Good described for the first ti...</td>\n",
       "    </tr>\n",
       "  </tbody>\n",
       "</table>\n",
       "<p>471 rows × 1 columns</p>\n",
       "</div>"
      ],
      "text/plain": [
       "                                                  text\n",
       "273  With media attention focused on Chris Christie...\n",
       "228  by Blaise Agüera y Arcas, Alexander Todorov a...\n",
       "256  Make sure to check out the other articles here...\n",
       "239  ThatÆs been a top Team de Blasio goal since th...\n",
       "270  But here are the underprivileged pupils of Far...\n",
       "..                                                 ...\n",
       "127  Facebook has recently launched a limited beta ...\n",
       "38   By Naseem Hakim & Aaron Keys\\nAt Airbnb, we wa...\n",
       "109  MORE FROM. Forbes Media surprised staffers Tue...\n",
       "106  This post outlines a formalization of what Nic...\n",
       "147  In 1965, I. J. Good described for the first ti...\n",
       "\n",
       "[471 rows x 1 columns]"
      ]
     },
     "execution_count": 154,
     "metadata": {},
     "output_type": "execute_result"
    }
   ],
   "source": [
    "from sklearn.model_selection import train_test_split\n",
    "X_train,X_test,y_train,y_test=train_test_split(cor_art,y,test_size=0.3,random_state=9)\n",
    "X_train"
   ]
  },
  {
   "cell_type": "code",
   "execution_count": 155,
   "metadata": {},
   "outputs": [],
   "source": [
    "import nltk\n",
    "from nltk.corpus import stopwords\n",
    "from nltk.tokenize import RegexpTokenizer\n",
    "from nltk.stem import WordNetLemmatizer,PorterStemmer\n",
    "from sklearn.feature_extraction.text import TfidfVectorizer"
   ]
  },
  {
   "cell_type": "code",
   "execution_count": 156,
   "metadata": {},
   "outputs": [
    {
     "name": "stderr",
     "output_type": "stream",
     "text": [
      "C:\\Users\\Vijay Muthyalu\\Anaconda3\\lib\\site-packages\\ipykernel_launcher.py:22: SettingWithCopyWarning: \n",
      "A value is trying to be set on a copy of a slice from a DataFrame.\n",
      "Try using .loc[row_indexer,col_indexer] = value instead\n",
      "\n",
      "See the caveats in the documentation: http://pandas.pydata.org/pandas-docs/stable/user_guide/indexing.html#returning-a-view-versus-a-copy\n"
     ]
    }
   ],
   "source": [
    "tokenizer = RegexpTokenizer(r'\\w+')\n",
    "lemmatizer = WordNetLemmatizer()\n",
    "stemmer=PorterStemmer()\n",
    "\n",
    "\n",
    "def preprocessing(review):\n",
    "    \n",
    "    final_tokens=' '\n",
    "    tokens=tokenizer.tokenize(review)\n",
    "    #print('Tokens:',tokens)\n",
    "    pure_tokens=[token.lower() for token in tokens if token.lower() not in stopwords.words('english')]\n",
    "    #print('Pure Tokens:',pure_tokens)\n",
    "    stemmed_tokens=[stemmer.stem(pure_token) for pure_token in pure_tokens]\n",
    "    \n",
    "    final_tokens=final_tokens.join(stemmed_tokens)\n",
    "    \n",
    "    return final_tokens\n",
    "\n",
    "\n",
    "\n",
    "preprocessing('I like to explore the world on my favourite car')\n",
    "X_train['Cleaned_text']=X_train['text'].apply(preprocessing)"
   ]
  },
  {
   "cell_type": "code",
   "execution_count": 157,
   "metadata": {},
   "outputs": [
    {
     "name": "stderr",
     "output_type": "stream",
     "text": [
      "Exception ignored in: <function SeekableUnicodeStreamReader.__del__ at 0x0000022E0409A0D8>\n",
      "Traceback (most recent call last):\n",
      "  File \"C:\\Users\\Vijay Muthyalu\\Anaconda3\\lib\\site-packages\\nltk\\data.py\", line 1280, in __del__\n",
      "    if not self.closed:\n",
      "  File \"C:\\Users\\Vijay Muthyalu\\Anaconda3\\lib\\site-packages\\nltk\\data.py\", line 1294, in closed\n",
      "    return self.stream.closed\n",
      "AttributeError: 'SeekableUnicodeStreamReader' object has no attribute 'stream'\n"
     ]
    },
    {
     "data": {
      "text/plain": [
       "(471, 18973)"
      ]
     },
     "execution_count": 157,
     "metadata": {},
     "output_type": "execute_result"
    }
   ],
   "source": [
    "vectorizer=TfidfVectorizer(stop_words='english',use_idf=True)\n",
    "\n",
    "vectorizer.fit(X_train['Cleaned_text'])\n",
    "X_train_TfIdf=vectorizer.transform(X_train['Cleaned_text'])\n",
    "\n",
    "vectorizer.vocabulary_\n",
    "X_train_TfIdf.shape"
   ]
  },
  {
   "cell_type": "code",
   "execution_count": 158,
   "metadata": {},
   "outputs": [
    {
     "name": "stderr",
     "output_type": "stream",
     "text": [
      "C:\\Users\\Vijay Muthyalu\\Anaconda3\\lib\\site-packages\\ipykernel_launcher.py:12: SettingWithCopyWarning: \n",
      "A value is trying to be set on a copy of a slice from a DataFrame.\n",
      "Try using .loc[row_indexer,col_indexer] = value instead\n",
      "\n",
      "See the caveats in the documentation: http://pandas.pydata.org/pandas-docs/stable/user_guide/indexing.html#returning-a-view-versus-a-copy\n",
      "  if sys.path[0] == '':\n"
     ]
    }
   ],
   "source": [
    "from sklearn.naive_bayes import MultinomialNB,GaussianNB,BernoulliNB\n",
    "from sklearn.metrics import confusion_matrix,roc_curve,roc_auc_score\n",
    "import matplotlib.pyplot as plt\n",
    "\n",
    "\n",
    "clf = MultinomialNB().fit(X_train_TfIdf.toarray(),y_train)\n",
    "\n",
    "#clf.score(X_train_TfIdf.toarray(),y_train)\n",
    "\n",
    "\n",
    "#test_review= 'That product was its absolute best and I loved using every feature of it'\n",
    "X_test['Cleaned_text']=X_test['text'].apply(preprocessing)\n",
    "\n",
    "#processed_test_review\n",
    "X_test_tfIdf=vectorizer.transform(X_test['Cleaned_text'])\n"
   ]
  },
  {
   "cell_type": "code",
   "execution_count": 159,
   "metadata": {},
   "outputs": [],
   "source": [
    "y_pred=clf.predict(X_test_tfIdf.toarray())\n",
    "compare=pd.DataFrame({'actuals':y_test,'predicts':y_pred})"
   ]
  },
  {
   "cell_type": "code",
   "execution_count": 160,
   "metadata": {},
   "outputs": [
    {
     "data": {
      "text/html": [
       "<div>\n",
       "<style scoped>\n",
       "    .dataframe tbody tr th:only-of-type {\n",
       "        vertical-align: middle;\n",
       "    }\n",
       "\n",
       "    .dataframe tbody tr th {\n",
       "        vertical-align: top;\n",
       "    }\n",
       "\n",
       "    .dataframe thead th {\n",
       "        text-align: right;\n",
       "    }\n",
       "</style>\n",
       "<table border=\"1\" class=\"dataframe\">\n",
       "  <thead>\n",
       "    <tr style=\"text-align: right;\">\n",
       "      <th></th>\n",
       "      <th>actuals</th>\n",
       "      <th>predicts</th>\n",
       "    </tr>\n",
       "  </thead>\n",
       "  <tbody>\n",
       "    <tr>\n",
       "      <td>71</td>\n",
       "      <td>0</td>\n",
       "      <td>0</td>\n",
       "    </tr>\n",
       "    <tr>\n",
       "      <td>13</td>\n",
       "      <td>1</td>\n",
       "      <td>1</td>\n",
       "    </tr>\n",
       "    <tr>\n",
       "      <td>261</td>\n",
       "      <td>0</td>\n",
       "      <td>0</td>\n",
       "    </tr>\n",
       "    <tr>\n",
       "      <td>150</td>\n",
       "      <td>1</td>\n",
       "      <td>1</td>\n",
       "    </tr>\n",
       "    <tr>\n",
       "      <td>4</td>\n",
       "      <td>0</td>\n",
       "      <td>0</td>\n",
       "    </tr>\n",
       "    <tr>\n",
       "      <td>...</td>\n",
       "      <td>...</td>\n",
       "      <td>...</td>\n",
       "    </tr>\n",
       "    <tr>\n",
       "      <td>171</td>\n",
       "      <td>0</td>\n",
       "      <td>0</td>\n",
       "    </tr>\n",
       "    <tr>\n",
       "      <td>172</td>\n",
       "      <td>1</td>\n",
       "      <td>1</td>\n",
       "    </tr>\n",
       "    <tr>\n",
       "      <td>211</td>\n",
       "      <td>0</td>\n",
       "      <td>0</td>\n",
       "    </tr>\n",
       "    <tr>\n",
       "      <td>110</td>\n",
       "      <td>1</td>\n",
       "      <td>1</td>\n",
       "    </tr>\n",
       "    <tr>\n",
       "      <td>57</td>\n",
       "      <td>1</td>\n",
       "      <td>1</td>\n",
       "    </tr>\n",
       "  </tbody>\n",
       "</table>\n",
       "<p>203 rows × 2 columns</p>\n",
       "</div>"
      ],
      "text/plain": [
       "     actuals  predicts\n",
       "71         0         0\n",
       "13         1         1\n",
       "261        0         0\n",
       "150        1         1\n",
       "4          0         0\n",
       "..       ...       ...\n",
       "171        0         0\n",
       "172        1         1\n",
       "211        0         0\n",
       "110        1         1\n",
       "57         1         1\n",
       "\n",
       "[203 rows x 2 columns]"
      ]
     },
     "execution_count": 160,
     "metadata": {},
     "output_type": "execute_result"
    }
   ],
   "source": [
    "compare"
   ]
  },
  {
   "cell_type": "code",
   "execution_count": 161,
   "metadata": {},
   "outputs": [
    {
     "data": {
      "text/plain": [
       "0.9993145319232276"
      ]
     },
     "execution_count": 161,
     "metadata": {},
     "output_type": "execute_result"
    },
    {
     "data": {
      "image/png": "[encoded data removed]",
      "text/plain": [
       "<Figure size 432x288 with 1 Axes>"
      ]
     },
     "metadata": {
      "needs_background": "light"
     },
     "output_type": "display_data"
    }
   ],
   "source": [
    "from sklearn.linear_model import  LogisticRegression\n",
    "from sklearn.metrics import confusion_matrix,roc_curve,roc_auc_score,recall_score,precision_recall_curve\n",
    "logit=LogisticRegression()\n",
    "logit.fit(X_train_TfIdf,y_train)\n",
    "y_logistic_pred=logit.predict(X_test_tfIdf)\n",
    "\n",
    "y_logistic_proba_pred=logit.predict_proba(X_test_tfIdf.toarray())[::,1]\n",
    "\n",
    "log_fpr,log_tpr,log_thresholds=roc_curve(y_test,y_logistic_proba_pred)\n",
    "\n",
    "plt.plot(log_fpr,log_tpr)\n",
    "\n",
    "roc_auc_score(y_test,y_logistic_proba_pred)\n"
   ]
  },
  {
   "cell_type": "code",
   "execution_count": 162,
   "metadata": {},
   "outputs": [
    {
     "name": "stdout",
     "output_type": "stream",
     "text": [
      "0.990990990990991\n"
     ]
    }
   ],
   "source": [
    "print(recall_score(y_test,y_logistic_pred))"
   ]
  }
 ],
 "metadata": {
  "kernelspec": {
   "display_name": "Python 3",
   "language": "python",
   "name": "python3"
  }
 },
 "nbformat": 4,
 "nbformat_minor": 2
}
